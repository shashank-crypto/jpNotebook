{
 "cells": [
  {
   "cell_type": "markdown",
   "metadata": {},
   "source": [
    "# PIL (pillow for image processing)"
   ]
  },
  {
   "cell_type": "code",
   "execution_count": 1,
   "metadata": {},
   "outputs": [],
   "source": [
    "from PIL import Image"
   ]
  },
  {
   "cell_type": "code",
   "execution_count": 4,
   "metadata": {},
   "outputs": [],
   "source": [
    "im = Image.open('Sample_imgs/cat1.jpg')\n",
    "im.show()  ## This opened an image of the cat in photos application"
   ]
  },
  {
   "cell_type": "code",
   "execution_count": 15,
   "metadata": {},
   "outputs": [],
   "source": [
    "dr = 'Sample_imgs/'\n",
    "im.save(dr +'cat1.png') ## A cat1.png created and has same image as cat1.jpg"
   ]
  },
  {
   "cell_type": "code",
   "execution_count": 23,
   "metadata": {},
   "outputs": [
    {
     "name": "stdout",
     "output_type": "stream",
     "text": [
      "cat1 -> .jpg\n",
      "cat1.jpg\n",
      "cat2 -> .jpg\n",
      "cat2.jpg\n",
      "cat3 -> .jpg\n",
      "cat3.jpg\n",
      "cat4 -> .jpg\n",
      "cat4.jpg\n",
      "dog1 -> .jpg\n",
      "dog1.jpg\n",
      "dog2 -> .jpg\n",
      "dog2.jpg\n",
      "dog3 -> .jpg\n",
      "dog3.jpg\n",
      "dog4 -> .jpg\n",
      "dog4.jpg\n"
     ]
    }
   ],
   "source": [
    "import os\n",
    "\n",
    "for f in os.listdir(dr):\n",
    "    if f.endswith('.jpg'):\n",
    "        i = Image.open(dr+f)\n",
    "        f_name , f_ext = os.path.splitext(f) ## This splits the extension and the file name\n",
    "        print(f_name,\"->\",f_ext)\n",
    "        print(f)\n",
    "        i.save(f'{dr}pngs/{f_name}.png')\n",
    "        \n",
    "        \n",
    "        ## Lists all the dir ending with .jpg and now we can convert all the images to .png format\n",
    "        ##   all at once"
   ]
  },
  {
   "cell_type": "code",
   "execution_count": 31,
   "metadata": {},
   "outputs": [
    {
     "data": {
      "text/plain": [
       "['cat1.png',\n",
       " 'cat2.png',\n",
       " 'cat3.png',\n",
       " 'cat4.png',\n",
       " 'dog1.png',\n",
       " 'dog2.png',\n",
       " 'dog3.png',\n",
       " 'dog4.png']"
      ]
     },
     "execution_count": 31,
     "metadata": {},
     "output_type": "execute_result"
    }
   ],
   "source": [
    "[f for f in os.listdir(dr+'pngs')] ## All the pngs of the images "
   ]
  },
  {
   "cell_type": "markdown",
   "metadata": {},
   "source": [
    "### Resizing images"
   ]
  },
  {
   "cell_type": "code",
   "execution_count": 32,
   "metadata": {},
   "outputs": [],
   "source": [
    "i_size = (300,300) ## Needs to be a tuple (fixed size of image)"
   ]
  },
  {
   "cell_type": "code",
   "execution_count": 34,
   "metadata": {},
   "outputs": [],
   "source": [
    "## Resizing the image to (300,300)\n",
    "\n",
    "for f in os.listdir(dr):\n",
    "    if f.endswith('.jpg'):\n",
    "        i = Image.open(dr+f)\n",
    "        f_name , f_ext = os.path.splitext(f)\n",
    "        i.thumbnail(i_size)\n",
    "        i.save(f'{dr}resized/{f_name}_resized{f_ext}')"
   ]
  },
  {
   "cell_type": "code",
   "execution_count": 36,
   "metadata": {},
   "outputs": [
    {
     "data": {
      "text/plain": [
       "['cat1_resized.jpg',\n",
       " 'cat2_resized.jpg',\n",
       " 'cat3_resized.jpg',\n",
       " 'cat4_resized.jpg',\n",
       " 'dog1_resized.jpg',\n",
       " 'dog2_resized.jpg',\n",
       " 'dog3_resized.jpg',\n",
       " 'dog4_resized.jpg']"
      ]
     },
     "execution_count": 36,
     "metadata": {},
     "output_type": "execute_result"
    }
   ],
   "source": [
    "[r for r in os.listdir(dr+'resized')]  ## Saved resized images"
   ]
  },
  {
   "cell_type": "code",
   "execution_count": 41,
   "metadata": {},
   "outputs": [],
   "source": [
    "import numpy as np\n",
    "\n",
    "img = np.array(Image.open(dr+'cat1.jpg'))"
   ]
  },
  {
   "cell_type": "code",
   "execution_count": 49,
   "metadata": {},
   "outputs": [
    {
     "data": {
      "text/plain": [
       "(225, 225, 1)"
      ]
     },
     "execution_count": 49,
     "metadata": {},
     "output_type": "execute_result"
    }
   ],
   "source": [
    "img[:,:,1].reshape(225,225,1).shape"
   ]
  },
  {
   "cell_type": "code",
   "execution_count": 50,
   "metadata": {},
   "outputs": [],
   "source": [
    "## img.rotate(90).save(dr+'pup1.jpg') ### ROTATE AND SAVE THE IMAGE\n",
    "## img.convert(mode='L').save(dr+'balck_pup1.jpg') ### BLACK AND WHITE OF THE IMAGE"
   ]
  },
  {
   "cell_type": "code",
   "execution_count": 51,
   "metadata": {},
   "outputs": [],
   "source": [
    "from PIL import ImageFilter"
   ]
  },
  {
   "cell_type": "code",
   "execution_count": 55,
   "metadata": {},
   "outputs": [],
   "source": [
    "im = Image.open(dr+'cat1.jpg')\n",
    "im.filter(ImageFilter.GaussianBlur(7)).save(dr+'cat_blurred.jpg') ## Blurred Image created"
   ]
  },
  {
   "cell_type": "code",
   "execution_count": null,
   "metadata": {},
   "outputs": [],
   "source": []
  }
 ],
 "metadata": {
  "kernelspec": {
   "display_name": "Python 3",
   "language": "python",
   "name": "python3"
  },
  "language_info": {
   "codemirror_mode": {
    "name": "ipython",
    "version": 3
   },
   "file_extension": ".py",
   "mimetype": "text/x-python",
   "name": "python",
   "nbconvert_exporter": "python",
   "pygments_lexer": "ipython3",
   "version": "3.8.5"
  }
 },
 "nbformat": 4,
 "nbformat_minor": 4
}
